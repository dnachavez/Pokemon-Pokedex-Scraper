{
  "nbformat": 4,
  "nbformat_minor": 0,
  "metadata": {
    "colab": {
      "provenance": [],
      "authorship_tag": "ABX9TyPy6cR5yWvTA+O+wzAOXr8j",
      "include_colab_link": true
    },
    "kernelspec": {
      "name": "python3",
      "display_name": "Python 3"
    },
    "language_info": {
      "name": "python"
    }
  },
  "cells": [
    {
      "cell_type": "markdown",
      "metadata": {
        "id": "view-in-github",
        "colab_type": "text"
      },
      "source": [
        "<a href=\"https://colab.research.google.com/github/dnachavez/Pokemon-Pokedex-Scraper/blob/main/app.ipynb\" target=\"_parent\"><img src=\"https://colab.research.google.com/assets/colab-badge.svg\" alt=\"Open In Colab\"/></a>"
      ]
    },
    {
      "cell_type": "code",
      "execution_count": 1,
      "metadata": {
        "colab": {
          "base_uri": "https://localhost:8080/"
        },
        "id": "2TR2kjK8couT",
        "outputId": "cd2dd033-b917-4688-d0cd-4e623292d90a"
      },
      "outputs": [
        {
          "output_type": "stream",
          "name": "stderr",
          "text": [
            "Scraping Pokémon data: 100%|██████████| 1215/1215 [00:00<00:00, 5611.16it/s]\n"
          ]
        },
        {
          "output_type": "stream",
          "name": "stdout",
          "text": [
            "Data saved to pokedex.csv\n",
            "Data saved to pokedex.db\n"
          ]
        }
      ],
      "source": [
        "import requests\n",
        "from bs4 import BeautifulSoup\n",
        "import pandas as pd\n",
        "import sqlite3\n",
        "import re\n",
        "from tqdm import tqdm\n",
        "\n",
        "url = \"https://pokemondb.net/pokedex/all\"\n",
        "\n",
        "def fetch_pokedex_page(url):\n",
        "    try:\n",
        "        response = requests.get(url)\n",
        "        response.raise_for_status()\n",
        "        return response.text\n",
        "    except requests.RequestException as e:\n",
        "        print(f\"Error fetching the Pokédex page: {e}\")\n",
        "        return None\n",
        "\n",
        "def parse_pokedex_page(html_content):\n",
        "    try:\n",
        "        soup = BeautifulSoup(html_content, 'html.parser')\n",
        "        table = soup.find('table', {'id': 'pokedex'})\n",
        "        headers = [header.text for header in table.find('thead').find_all('th')]\n",
        "        headers.insert(1, \"Image URL\")\n",
        "        rows = table.find('tbody').find_all('tr')\n",
        "        return headers, rows\n",
        "    except Exception as e:\n",
        "        print(f\"Error parsing the Pokédex page: {e}\")\n",
        "        return None, None\n",
        "\n",
        "def extract_pokemon_data(rows):\n",
        "    pokedex = []\n",
        "    clean_regex = re.compile(r'\\s+')\n",
        "\n",
        "    try:\n",
        "        for row in tqdm(rows, desc=\"Scraping Pokémon data\"):\n",
        "            cells = row.find_all('td')\n",
        "            number = clean_regex.sub(' ', cells[0].find('span', class_='infocard-cell-data').text.strip())\n",
        "            img_url = cells[0].find('img')['src']\n",
        "            data = [clean_regex.sub(' ', cell.text.strip()) for cell in cells[1:]]\n",
        "            types = ', '.join([type_tag.text for type_tag in cells[2].find_all('a')])\n",
        "            data[1] = types\n",
        "            data.insert(0, img_url)\n",
        "            data.insert(0, number)\n",
        "            pokedex.append(data)\n",
        "        return pokedex\n",
        "    except Exception as e:\n",
        "        print(f\"Error extracting Pokémon data: {e}\")\n",
        "        return []\n",
        "\n",
        "def save_to_csv(data, headers, filename):\n",
        "    try:\n",
        "        df = pd.DataFrame(data, columns=headers)\n",
        "        df.to_csv(filename, index=False)\n",
        "        print(f\"Data saved to {filename}\")\n",
        "    except Exception as e:\n",
        "        print(f\"Error saving data to CSV: {e}\")\n",
        "\n",
        "def save_to_db(data, headers, db_filename):\n",
        "    try:\n",
        "        df = pd.DataFrame(data, columns=headers)\n",
        "        conn = sqlite3.connect(db_filename)\n",
        "        df.to_sql('pokedex', conn, if_exists='replace', index=False)\n",
        "        conn.close()\n",
        "        print(f\"Data saved to {db_filename}\")\n",
        "    except Exception as e:\n",
        "        print(f\"Error saving data to database: {e}\")\n",
        "\n",
        "def main():\n",
        "    html_content = fetch_pokedex_page(url)\n",
        "    if html_content:\n",
        "        headers, rows = parse_pokedex_page(html_content)\n",
        "        if headers and rows:\n",
        "            data = extract_pokemon_data(rows)\n",
        "            if data:\n",
        "                save_to_csv(data, headers, 'pokedex.csv')\n",
        "                save_to_db(data, headers, 'pokedex.db')\n",
        "\n",
        "if __name__ == \"__main__\":\n",
        "    main()\n"
      ]
    }
  ]
}